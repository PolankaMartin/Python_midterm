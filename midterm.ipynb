{
 "cells": [
  {
   "cell_type": "code",
   "execution_count": 71,
   "metadata": {},
   "outputs": [],
   "source": [
    "import pandas as pd\n",
    "import pathlib\n",
    "import numpy as np"
   ]
  },
  {
   "cell_type": "code",
   "execution_count": 31,
   "metadata": {},
   "outputs": [],
   "source": [
    "CFG = pd.read_csv(\"CFG.csv\")\n",
    "CNC = pd.read_csv(\"CNC.csv\")\n",
    "GPN = pd.read_csv(\"GPN.csv\")\n",
    "INTC = pd.read_csv(\"INTC.csv\")"
   ]
  },
  {
   "cell_type": "code",
   "execution_count": 45,
   "metadata": {},
   "outputs": [],
   "source": [
    "data = {\"CFG\": CFG, \"CNC\": CNC,\"GPN\": GPN,\"INTC\": INTC}\n",
    "names = [\"CFG\",\"CNC\",\"GPN\",\"INTC\"]"
   ]
  },
  {
   "cell_type": "markdown",
   "metadata": {},
   "source": [
    "Is there a company that has no difference between the Close and Adj Close columns?\n",
    "What does it mean from the financial point of view for the stock (you can get bonus\n",
    "partial points)?"
   ]
  },
  {
   "cell_type": "code",
   "execution_count": 82,
   "metadata": {},
   "outputs": [
    {
     "name": "stdout",
     "output_type": "stream",
     "text": [
      "CNC\n"
     ]
    }
   ],
   "source": [
    "for key,ticker in data.items():\n",
    "    if all(ticker[\"Adj Close\"] == ticker[\"Close\"]):\n",
    "        print(f\"{key}\")\n"
   ]
  },
  {
   "cell_type": "markdown",
   "metadata": {},
   "source": [
    "What is the highest and lowest price (Adj Close) each company recorded?\n"
   ]
  },
  {
   "cell_type": "code",
   "execution_count": 54,
   "metadata": {},
   "outputs": [
    {
     "name": "stdout",
     "output_type": "stream",
     "text": [
      "CFG min: 55.925743103027344\n",
      "CFG max: 13.986557006835938\n",
      "CNC min: 55.925743103027344\n",
      "CNC max: 42.72999954223633\n",
      "GPN min: 55.925743103027344\n",
      "GPN max: 42.72999954223633\n",
      "INTC min: 55.925743103027344\n",
      "INTC max: 42.72999954223633\n"
     ]
    }
   ],
   "source": [
    "max_CFG = max(CFG[\"Adj Close\"])\n",
    "min_CFG = min(CFG[\"Adj Close\"])\n",
    "print(f\"CFG min: {max_CFG}\")\n",
    "print(f\"CFG max: {min_CFG}\")\n",
    "max_CNC = max(CNC[\"Adj Close\"])\n",
    "min_CFG = min(CNC[\"Adj Close\"])\n",
    "print(f\"CNC min: {max_CFG}\")\n",
    "print(f\"CNC max: {min_CFG}\")\n",
    "max_GPN = max(GPN[\"Adj Close\"])\n",
    "min_GPN = min(GPN[\"Adj Close\"])\n",
    "print(f\"GPN min: {max_CFG}\")\n",
    "print(f\"GPN max: {min_CFG}\")\n",
    "max_INTC = max(INTC[\"Adj Close\"])\n",
    "min_INTC = min(INTC[\"Adj Close\"])\n",
    "print(f\"INTC min: {max_CFG}\")\n",
    "print(f\"INTC max: {min_CFG}\")"
   ]
  },
  {
   "cell_type": "markdown",
   "metadata": {},
   "source": [
    "(1pt task) Calculate logarithmic returns from Adj Close. For each company report on\n",
    "its, min, max, mean, median of the return distribution."
   ]
  },
  {
   "cell_type": "code",
   "execution_count": 86,
   "metadata": {},
   "outputs": [
    {
     "name": "stdout",
     "output_type": "stream",
     "text": [
      "CFG Min: -0.24547476559631543, Max: 0.1569700329491588, Mean: 0.00021775412178264347, Median: 0.0005660365925002075\n",
      "CNC Min: -0.16260223088477943, Max: 0.14498691193420132, Mean: 0.0004400655464827349, Median: 0.0007504410256302663\n",
      "GPN Min: -0.2128062153261263, Max: 0.1961963394997035, Mean: 4.641600861042549e-05, Median: 0.0017622501850693695\n",
      "INTC Min: -0.19895742427906082, Max: 0.17832430083601203, Mean: -0.00025557663536737767, Median: 0.0\n"
     ]
    }
   ],
   "source": [
    "for key,ticker in data.items():\n",
    "    ticker['log_ret'] = np.log(ticker[\"Adj Close\"]) - np.log(ticker[\"Adj Close\"].shift(1))\n",
    "    min_ = np.nanmin(ticker['log_ret'])\n",
    "    max_ = np.nanmax(ticker['log_ret'])\n",
    "    mean_ = np.nanmean(ticker['log_ret'])\n",
    "    median_ = np.nanmedian(ticker['log_ret'])\n",
    "    print(f\"{key} Min: {min_}, Max: {max_}, Mean: {mean_}, Median: {median_}\")\n",
    "\n"
   ]
  },
  {
   "cell_type": "markdown",
   "metadata": {},
   "source": [
    "4. When did each company record the highest gain and highest loss for the day?\n",
    "(logarithmic loss). Hint: idxmax"
   ]
  },
  {
   "cell_type": "code",
   "execution_count": 94,
   "metadata": {},
   "outputs": [
    {
     "data": {
      "text/html": [
       "<div>\n",
       "<style scoped>\n",
       "    .dataframe tbody tr th:only-of-type {\n",
       "        vertical-align: middle;\n",
       "    }\n",
       "\n",
       "    .dataframe tbody tr th {\n",
       "        vertical-align: top;\n",
       "    }\n",
       "\n",
       "    .dataframe thead th {\n",
       "        text-align: right;\n",
       "    }\n",
       "</style>\n",
       "<table border=\"1\" class=\"dataframe\">\n",
       "  <thead>\n",
       "    <tr style=\"text-align: right;\">\n",
       "      <th></th>\n",
       "      <th>Date</th>\n",
       "      <th>High</th>\n",
       "      <th>Low</th>\n",
       "      <th>Open</th>\n",
       "      <th>Close</th>\n",
       "      <th>Volume</th>\n",
       "      <th>Adj Close</th>\n",
       "      <th>log_ret</th>\n",
       "    </tr>\n",
       "  </thead>\n",
       "  <tbody>\n",
       "    <tr>\n",
       "      <th>0</th>\n",
       "      <td>2017-11-13</td>\n",
       "      <td>47.494999</td>\n",
       "      <td>46.555000</td>\n",
       "      <td>46.555000</td>\n",
       "      <td>47.180000</td>\n",
       "      <td>3056200.0</td>\n",
       "      <td>47.180000</td>\n",
       "      <td>NaN</td>\n",
       "    </tr>\n",
       "    <tr>\n",
       "      <th>1</th>\n",
       "      <td>2017-11-14</td>\n",
       "      <td>47.180000</td>\n",
       "      <td>46.375000</td>\n",
       "      <td>46.974998</td>\n",
       "      <td>46.514999</td>\n",
       "      <td>1715400.0</td>\n",
       "      <td>46.514999</td>\n",
       "      <td>-0.014195</td>\n",
       "    </tr>\n",
       "    <tr>\n",
       "      <th>2</th>\n",
       "      <td>2017-11-15</td>\n",
       "      <td>46.509998</td>\n",
       "      <td>45.035000</td>\n",
       "      <td>46.400002</td>\n",
       "      <td>46.075001</td>\n",
       "      <td>2552800.0</td>\n",
       "      <td>46.075001</td>\n",
       "      <td>-0.009504</td>\n",
       "    </tr>\n",
       "    <tr>\n",
       "      <th>3</th>\n",
       "      <td>2017-11-16</td>\n",
       "      <td>48.465000</td>\n",
       "      <td>46.255001</td>\n",
       "      <td>46.255001</td>\n",
       "      <td>47.970001</td>\n",
       "      <td>3466600.0</td>\n",
       "      <td>47.970001</td>\n",
       "      <td>0.040305</td>\n",
       "    </tr>\n",
       "    <tr>\n",
       "      <th>4</th>\n",
       "      <td>2017-11-17</td>\n",
       "      <td>47.974998</td>\n",
       "      <td>47.520000</td>\n",
       "      <td>47.834999</td>\n",
       "      <td>47.570000</td>\n",
       "      <td>2009200.0</td>\n",
       "      <td>47.570000</td>\n",
       "      <td>-0.008374</td>\n",
       "    </tr>\n",
       "  </tbody>\n",
       "</table>\n",
       "</div>"
      ],
      "text/plain": [
       "         Date       High        Low       Open      Close     Volume  \\\n",
       "0  2017-11-13  47.494999  46.555000  46.555000  47.180000  3056200.0   \n",
       "1  2017-11-14  47.180000  46.375000  46.974998  46.514999  1715400.0   \n",
       "2  2017-11-15  46.509998  45.035000  46.400002  46.075001  2552800.0   \n",
       "3  2017-11-16  48.465000  46.255001  46.255001  47.970001  3466600.0   \n",
       "4  2017-11-17  47.974998  47.520000  47.834999  47.570000  2009200.0   \n",
       "\n",
       "   Adj Close   log_ret  \n",
       "0  47.180000       NaN  \n",
       "1  46.514999 -0.014195  \n",
       "2  46.075001 -0.009504  \n",
       "3  47.970001  0.040305  \n",
       "4  47.570000 -0.008374  "
      ]
     },
     "execution_count": 94,
     "metadata": {},
     "output_type": "execute_result"
    }
   ],
   "source": [
    "data[\"CNC\"].head()"
   ]
  },
  {
   "cell_type": "code",
   "execution_count": 91,
   "metadata": {},
   "outputs": [
    {
     "ename": "AttributeError",
     "evalue": "'numpy.int64' object has no attribute '_values'",
     "output_type": "error",
     "traceback": [
      "\u001b[1;31m---------------------------------------------------------------------------\u001b[0m",
      "\u001b[1;31mAttributeError\u001b[0m                            Traceback (most recent call last)",
      "\u001b[1;32m~\\AppData\\Local\\Temp\\ipykernel_19348\\3926179011.py\u001b[0m in \u001b[0;36m?\u001b[1;34m()\u001b[0m\n\u001b[0;32m      1\u001b[0m \u001b[1;32mfor\u001b[0m \u001b[0mkey\u001b[0m\u001b[1;33m,\u001b[0m\u001b[0mticker\u001b[0m \u001b[1;32min\u001b[0m \u001b[0mdata\u001b[0m\u001b[1;33m.\u001b[0m\u001b[0mitems\u001b[0m\u001b[1;33m(\u001b[0m\u001b[1;33m)\u001b[0m\u001b[1;33m:\u001b[0m\u001b[1;33m\u001b[0m\u001b[1;33m\u001b[0m\u001b[0m\n\u001b[1;32m----> 2\u001b[1;33m     \u001b[0mmax_\u001b[0m \u001b[1;33m=\u001b[0m \u001b[0mpd\u001b[0m\u001b[1;33m.\u001b[0m\u001b[0mDataFrame\u001b[0m\u001b[1;33m.\u001b[0m\u001b[0midxmax\u001b[0m\u001b[1;33m(\u001b[0m\u001b[0mticker\u001b[0m\u001b[1;33m[\u001b[0m\u001b[1;34m\"log_ret\"\u001b[0m\u001b[1;33m]\u001b[0m\u001b[1;33m,\u001b[0m\u001b[0maxis\u001b[0m\u001b[1;33m=\u001b[0m\u001b[1;36m0\u001b[0m\u001b[1;33m,\u001b[0m \u001b[0mskipna\u001b[0m\u001b[1;33m=\u001b[0m\u001b[1;32mTrue\u001b[0m\u001b[1;33m,\u001b[0m \u001b[0mnumeric_only\u001b[0m\u001b[1;33m=\u001b[0m\u001b[1;32mFalse\u001b[0m\u001b[1;33m)\u001b[0m\u001b[1;33m\u001b[0m\u001b[1;33m\u001b[0m\u001b[0m\n\u001b[0m\u001b[0;32m      3\u001b[0m     \u001b[0mprint\u001b[0m\u001b[1;33m(\u001b[0m\u001b[0mmax_\u001b[0m\u001b[1;33m)\u001b[0m\u001b[1;33m\u001b[0m\u001b[1;33m\u001b[0m\u001b[0m\n",
      "\u001b[1;32mc:\\Skola\\ies\\Mgr\\python_midterm\\.venv\\lib\\site-packages\\pandas\\core\\frame.py\u001b[0m in \u001b[0;36m?\u001b[1;34m(self, axis, skipna, numeric_only)\u001b[0m\n\u001b[0;32m  11531\u001b[0m \u001b[1;33m\u001b[0m\u001b[0m\n\u001b[0;32m  11532\u001b[0m         res = data._reduce(\n\u001b[0;32m  11533\u001b[0m             \u001b[0mnanops\u001b[0m\u001b[1;33m.\u001b[0m\u001b[0mnanargmax\u001b[0m\u001b[1;33m,\u001b[0m \u001b[1;34m\"argmax\"\u001b[0m\u001b[1;33m,\u001b[0m \u001b[0maxis\u001b[0m\u001b[1;33m=\u001b[0m\u001b[0maxis\u001b[0m\u001b[1;33m,\u001b[0m \u001b[0mskipna\u001b[0m\u001b[1;33m=\u001b[0m\u001b[0mskipna\u001b[0m\u001b[1;33m,\u001b[0m \u001b[0mnumeric_only\u001b[0m\u001b[1;33m=\u001b[0m\u001b[1;32mFalse\u001b[0m\u001b[1;33m\u001b[0m\u001b[1;33m\u001b[0m\u001b[0m\n\u001b[0;32m  11534\u001b[0m         )\n\u001b[1;32m> 11535\u001b[1;33m         \u001b[0mindices\u001b[0m \u001b[1;33m=\u001b[0m \u001b[0mres\u001b[0m\u001b[1;33m.\u001b[0m\u001b[0m_values\u001b[0m\u001b[1;33m\u001b[0m\u001b[1;33m\u001b[0m\u001b[0m\n\u001b[0m\u001b[0;32m  11536\u001b[0m         \u001b[1;31m# indices will always be 1d array since axis is not None\u001b[0m\u001b[1;33m\u001b[0m\u001b[1;33m\u001b[0m\u001b[0m\n\u001b[0;32m  11537\u001b[0m \u001b[1;33m\u001b[0m\u001b[0m\n\u001b[0;32m  11538\u001b[0m         \u001b[1;32mif\u001b[0m \u001b[1;33m(\u001b[0m\u001b[0mindices\u001b[0m \u001b[1;33m==\u001b[0m \u001b[1;33m-\u001b[0m\u001b[1;36m1\u001b[0m\u001b[1;33m)\u001b[0m\u001b[1;33m.\u001b[0m\u001b[0many\u001b[0m\u001b[1;33m(\u001b[0m\u001b[1;33m)\u001b[0m\u001b[1;33m:\u001b[0m\u001b[1;33m\u001b[0m\u001b[1;33m\u001b[0m\u001b[0m\n",
      "\u001b[1;31mAttributeError\u001b[0m: 'numpy.int64' object has no attribute '_values'"
     ]
    }
   ],
   "source": [
    "for key,ticker in data.items():\n",
    "    max_ = pd.DataFrame.idxmax(ticker[\"log_ret\"],axis=0, skipna=True, numeric_only=False)\n",
    "    print(max_)\n"
   ]
  }
 ],
 "metadata": {
  "kernelspec": {
   "display_name": ".venv",
   "language": "python",
   "name": "python3"
  },
  "language_info": {
   "codemirror_mode": {
    "name": "ipython",
    "version": 3
   },
   "file_extension": ".py",
   "mimetype": "text/x-python",
   "name": "python",
   "nbconvert_exporter": "python",
   "pygments_lexer": "ipython3",
   "version": "3.10.0"
  }
 },
 "nbformat": 4,
 "nbformat_minor": 2
}
