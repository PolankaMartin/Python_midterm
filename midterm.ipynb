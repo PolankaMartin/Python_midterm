{
 "cells": [
  {
   "cell_type": "code",
   "execution_count": 122,
   "metadata": {},
   "outputs": [],
   "source": [
    "import pandas as pd\n",
    "import pathlib\n",
    "import numpy as np\n",
    "#import matplotlib.pyplot as plt"
   ]
  },
  {
   "cell_type": "code",
   "execution_count": 31,
   "metadata": {},
   "outputs": [],
   "source": [
    "CFG = pd.read_csv(\"CFG.csv\")\n",
    "CNC = pd.read_csv(\"CNC.csv\")\n",
    "GPN = pd.read_csv(\"GPN.csv\")\n",
    "INTC = pd.read_csv(\"INTC.csv\")"
   ]
  },
  {
   "cell_type": "code",
   "execution_count": 45,
   "metadata": {},
   "outputs": [],
   "source": [
    "data = {\"CFG\": CFG, \"CNC\": CNC,\"GPN\": GPN,\"INTC\": INTC}\n",
    "names = [\"CFG\",\"CNC\",\"GPN\",\"INTC\"]"
   ]
  },
  {
   "cell_type": "markdown",
   "metadata": {},
   "source": [
    "Is there a company that has no difference between the Close and Adj Close columns?\n",
    "What does it mean from the financial point of view for the stock (you can get bonus\n",
    "partial points)?"
   ]
  },
  {
   "cell_type": "code",
   "execution_count": 82,
   "metadata": {},
   "outputs": [
    {
     "name": "stdout",
     "output_type": "stream",
     "text": [
      "CNC\n"
     ]
    }
   ],
   "source": [
    "for key,ticker in data.items():\n",
    "    if all(ticker[\"Adj Close\"] == ticker[\"Close\"]):\n",
    "        print(f\"{key}\")\n"
   ]
  },
  {
   "cell_type": "markdown",
   "metadata": {},
   "source": [
    "What is the highest and lowest price (Adj Close) each company recorded?\n"
   ]
  },
  {
   "cell_type": "code",
   "execution_count": 54,
   "metadata": {},
   "outputs": [
    {
     "name": "stdout",
     "output_type": "stream",
     "text": [
      "CFG min: 55.925743103027344\n",
      "CFG max: 13.986557006835938\n",
      "CNC min: 55.925743103027344\n",
      "CNC max: 42.72999954223633\n",
      "GPN min: 55.925743103027344\n",
      "GPN max: 42.72999954223633\n",
      "INTC min: 55.925743103027344\n",
      "INTC max: 42.72999954223633\n"
     ]
    }
   ],
   "source": [
    "max_CFG = max(CFG[\"Adj Close\"])\n",
    "min_CFG = min(CFG[\"Adj Close\"])\n",
    "print(f\"CFG min: {max_CFG}\")\n",
    "print(f\"CFG max: {min_CFG}\")\n",
    "max_CNC = max(CNC[\"Adj Close\"])\n",
    "min_CFG = min(CNC[\"Adj Close\"])\n",
    "print(f\"CNC min: {max_CFG}\")\n",
    "print(f\"CNC max: {min_CFG}\")\n",
    "max_GPN = max(GPN[\"Adj Close\"])\n",
    "min_GPN = min(GPN[\"Adj Close\"])\n",
    "print(f\"GPN min: {max_CFG}\")\n",
    "print(f\"GPN max: {min_CFG}\")\n",
    "max_INTC = max(INTC[\"Adj Close\"])\n",
    "min_INTC = min(INTC[\"Adj Close\"])\n",
    "print(f\"INTC min: {max_CFG}\")\n",
    "print(f\"INTC max: {min_CFG}\")"
   ]
  },
  {
   "cell_type": "markdown",
   "metadata": {},
   "source": [
    "(1pt task) Calculate logarithmic returns from Adj Close. For each company report on\n",
    "its, min, max, mean, median of the return distribution."
   ]
  },
  {
   "cell_type": "code",
   "execution_count": 86,
   "metadata": {},
   "outputs": [
    {
     "name": "stdout",
     "output_type": "stream",
     "text": [
      "CFG Min: -0.24547476559631543, Max: 0.1569700329491588, Mean: 0.00021775412178264347, Median: 0.0005660365925002075\n",
      "CNC Min: -0.16260223088477943, Max: 0.14498691193420132, Mean: 0.0004400655464827349, Median: 0.0007504410256302663\n",
      "GPN Min: -0.2128062153261263, Max: 0.1961963394997035, Mean: 4.641600861042549e-05, Median: 0.0017622501850693695\n",
      "INTC Min: -0.19895742427906082, Max: 0.17832430083601203, Mean: -0.00025557663536737767, Median: 0.0\n"
     ]
    }
   ],
   "source": [
    "for key,ticker in data.items():\n",
    "    ticker['log_ret'] = np.log(ticker[\"Adj Close\"]) - np.log(ticker[\"Adj Close\"].shift(1))\n",
    "    min_ = np.nanmin(ticker['log_ret'])\n",
    "    max_ = np.nanmax(ticker['log_ret'])\n",
    "    mean_ = np.nanmean(ticker['log_ret'])\n",
    "    median_ = np.nanmedian(ticker['log_ret'])\n",
    "    print(f\"{key} Min: {min_}, Max: {max_}, Mean: {mean_}, Median: {median_}\")\n",
    "\n"
   ]
  },
  {
   "cell_type": "markdown",
   "metadata": {},
   "source": [
    "4. When did each company record the highest gain and highest loss for the day?\n",
    "(logarithmic loss). Hint: idxmax"
   ]
  },
  {
   "cell_type": "code",
   "execution_count": 102,
   "metadata": {},
   "outputs": [
    {
     "name": "stdout",
     "output_type": "stream",
     "text": [
      "CFG: 2020-03-26\n",
      "CNC: 2020-03-04\n",
      "GPN: 2020-03-24\n",
      "INTC: 2020-03-13\n"
     ]
    }
   ],
   "source": [
    "for key,ticker in data.items():\n",
    "    row = ticker[\"log_ret\"].idxmax(axis=0, skipna=True)\n",
    "    dates = ticker[\"Date\"]\n",
    "    print(f\"{key}: {dates[row]}\")\n"
   ]
  },
  {
   "cell_type": "markdown",
   "metadata": {},
   "source": [
    "Which company recorded the highest total return over the whole period?"
   ]
  },
  {
   "cell_type": "code",
   "execution_count": 119,
   "metadata": {},
   "outputs": [
    {
     "ename": "AttributeError",
     "evalue": "'dict_values' object has no attribute 'index'",
     "output_type": "error",
     "traceback": [
      "\u001b[1;31m---------------------------------------------------------------------------\u001b[0m",
      "\u001b[1;31mAttributeError\u001b[0m                            Traceback (most recent call last)",
      "\u001b[1;32mc:\\Skola\\ies\\Mgr\\python_midterm\\Python_midterm\\midterm.ipynb Cell 13\u001b[0m line \u001b[0;36m6\n\u001b[0;32m      <a href='vscode-notebook-cell:/c%3A/Skola/ies/Mgr/python_midterm/Python_midterm/midterm.ipynb#X43sZmlsZQ%3D%3D?line=2'>3</a>\u001b[0m     sums[key] \u001b[39m=\u001b[39m ticker[\u001b[39m\"\u001b[39m\u001b[39mlog_ret\u001b[39m\u001b[39m\"\u001b[39m]\u001b[39m.\u001b[39msum(skipna\u001b[39m=\u001b[39m\u001b[39mTrue\u001b[39;00m)\n\u001b[0;32m      <a href='vscode-notebook-cell:/c%3A/Skola/ies/Mgr/python_midterm/Python_midterm/midterm.ipynb#X43sZmlsZQ%3D%3D?line=4'>5</a>\u001b[0m max_ \u001b[39m=\u001b[39m \u001b[39mmax\u001b[39m(sums\u001b[39m.\u001b[39mvalues())\n\u001b[1;32m----> <a href='vscode-notebook-cell:/c%3A/Skola/ies/Mgr/python_midterm/Python_midterm/midterm.ipynb#X43sZmlsZQ%3D%3D?line=5'>6</a>\u001b[0m sums\u001b[39m.\u001b[39mkeys()[sums\u001b[39m.\u001b[39;49mvalues()\u001b[39m.\u001b[39;49mindex(max_)]\n\u001b[0;32m      <a href='vscode-notebook-cell:/c%3A/Skola/ies/Mgr/python_midterm/Python_midterm/midterm.ipynb#X43sZmlsZQ%3D%3D?line=7'>8</a>\u001b[0m \u001b[39m#print(f\"{key}: {sum_}\")\u001b[39;00m\n",
      "\u001b[1;31mAttributeError\u001b[0m: 'dict_values' object has no attribute 'index'"
     ]
    }
   ],
   "source": [
    "sums = {}\n",
    "for key,ticker in data.items():\n",
    "    sums[key] = ticker[\"log_ret\"].sum(skipna=True)\n",
    "\n",
    "max_ = max(sums.values())\n",
    "sums.keys()[sums.values().index(max_)]\n",
    "\n"
   ]
  },
  {
   "cell_type": "markdown",
   "metadata": {},
   "source": [
    "Plot the log-returns of the companies (ideally in the same plot)"
   ]
  },
  {
   "cell_type": "code",
   "execution_count": null,
   "metadata": {},
   "outputs": [],
   "source": [
    "#SKIP"
   ]
  },
  {
   "cell_type": "markdown",
   "metadata": {},
   "source": [
    "Show the log-return distribution of the companies’ returns (ideally in the same plot\n",
    "with each company having separate line). Choose appropriate type of visualization."
   ]
  },
  {
   "cell_type": "code",
   "execution_count": 124,
   "metadata": {},
   "outputs": [],
   "source": [
    "#SKIP"
   ]
  },
  {
   "cell_type": "code",
   "execution_count": 129,
   "metadata": {},
   "outputs": [],
   "source": [
    "SnP = pd.read_csv(\"companies_no_subindustry.csv\")"
   ]
  },
  {
   "cell_type": "markdown",
   "metadata": {},
   "source": [
    "Find out how many companies do not filled-in the date of inclusion (column\n",
    "“included”) to S&P 500.\n"
   ]
  },
  {
   "cell_type": "code",
   "execution_count": 131,
   "metadata": {},
   "outputs": [
    {
     "ename": "TypeError",
     "evalue": "'int' object is not iterable",
     "output_type": "error",
     "traceback": [
      "\u001b[1;31m---------------------------------------------------------------------------\u001b[0m",
      "\u001b[1;31mTypeError\u001b[0m                                 Traceback (most recent call last)",
      "\u001b[1;32mc:\\Skola\\ies\\Mgr\\python_midterm\\Python_midterm\\midterm.ipynb Cell 20\u001b[0m line \u001b[0;36m2\n\u001b[0;32m      <a href='vscode-notebook-cell:/c%3A/Skola/ies/Mgr/python_midterm/Python_midterm/midterm.ipynb#X54sZmlsZQ%3D%3D?line=0'>1</a>\u001b[0m count \u001b[39m=\u001b[39m \u001b[39m0\u001b[39m\n\u001b[1;32m----> <a href='vscode-notebook-cell:/c%3A/Skola/ies/Mgr/python_midterm/Python_midterm/midterm.ipynb#X54sZmlsZQ%3D%3D?line=1'>2</a>\u001b[0m \u001b[39mfor\u001b[39;00m row \u001b[39min\u001b[39;00m \u001b[39mlen\u001b[39m(SnP):\n\u001b[0;32m      <a href='vscode-notebook-cell:/c%3A/Skola/ies/Mgr/python_midterm/Python_midterm/midterm.ipynb#X54sZmlsZQ%3D%3D?line=2'>3</a>\u001b[0m     \u001b[39mif\u001b[39;00m SnP[row,\u001b[39m\"\u001b[39m\u001b[39mincluded\u001b[39m\u001b[39m\"\u001b[39m] \u001b[39m==\u001b[39m \u001b[39mNone\u001b[39;00m:\n\u001b[0;32m      <a href='vscode-notebook-cell:/c%3A/Skola/ies/Mgr/python_midterm/Python_midterm/midterm.ipynb#X54sZmlsZQ%3D%3D?line=3'>4</a>\u001b[0m         count \u001b[39m+\u001b[39m\u001b[39m=\u001b[39m\u001b[39m1\u001b[39m\n",
      "\u001b[1;31mTypeError\u001b[0m: 'int' object is not iterable"
     ]
    }
   ],
   "source": [
    "count = 0\n",
    "for row in len(SnP):\n",
    "    if SnP[row,\"included\"] == None:\n",
    "        count +=1\n"
   ]
  },
  {
   "cell_type": "code",
   "execution_count": 132,
   "metadata": {},
   "outputs": [
    {
     "ename": "KeyError",
     "evalue": "(1, 'included')",
     "output_type": "error",
     "traceback": [
      "\u001b[1;31m---------------------------------------------------------------------------\u001b[0m",
      "\u001b[1;31mKeyError\u001b[0m                                  Traceback (most recent call last)",
      "File \u001b[1;32mc:\\Skola\\ies\\Mgr\\python_midterm\\.venv\\lib\\site-packages\\pandas\\core\\indexes\\base.py:3790\u001b[0m, in \u001b[0;36mIndex.get_loc\u001b[1;34m(self, key)\u001b[0m\n\u001b[0;32m   3789\u001b[0m \u001b[39mtry\u001b[39;00m:\n\u001b[1;32m-> 3790\u001b[0m     \u001b[39mreturn\u001b[39;00m \u001b[39mself\u001b[39;49m\u001b[39m.\u001b[39;49m_engine\u001b[39m.\u001b[39;49mget_loc(casted_key)\n\u001b[0;32m   3791\u001b[0m \u001b[39mexcept\u001b[39;00m \u001b[39mKeyError\u001b[39;00m \u001b[39mas\u001b[39;00m err:\n",
      "File \u001b[1;32mindex.pyx:152\u001b[0m, in \u001b[0;36mpandas._libs.index.IndexEngine.get_loc\u001b[1;34m()\u001b[0m\n",
      "File \u001b[1;32mindex.pyx:181\u001b[0m, in \u001b[0;36mpandas._libs.index.IndexEngine.get_loc\u001b[1;34m()\u001b[0m\n",
      "File \u001b[1;32mpandas\\_libs\\hashtable_class_helper.pxi:7080\u001b[0m, in \u001b[0;36mpandas._libs.hashtable.PyObjectHashTable.get_item\u001b[1;34m()\u001b[0m\n",
      "File \u001b[1;32mpandas\\_libs\\hashtable_class_helper.pxi:7088\u001b[0m, in \u001b[0;36mpandas._libs.hashtable.PyObjectHashTable.get_item\u001b[1;34m()\u001b[0m\n",
      "\u001b[1;31mKeyError\u001b[0m: (1, 'included')",
      "\nThe above exception was the direct cause of the following exception:\n",
      "\u001b[1;31mKeyError\u001b[0m                                  Traceback (most recent call last)",
      "\u001b[1;32mc:\\Skola\\ies\\Mgr\\python_midterm\\Python_midterm\\midterm.ipynb Cell 21\u001b[0m line \u001b[0;36m1\n\u001b[1;32m----> <a href='vscode-notebook-cell:/c%3A/Skola/ies/Mgr/python_midterm/Python_midterm/midterm.ipynb#X55sZmlsZQ%3D%3D?line=0'>1</a>\u001b[0m SnP[\u001b[39m1\u001b[39;49m,\u001b[39m\"\u001b[39;49m\u001b[39mincluded\u001b[39;49m\u001b[39m\"\u001b[39;49m]\n",
      "File \u001b[1;32mc:\\Skola\\ies\\Mgr\\python_midterm\\.venv\\lib\\site-packages\\pandas\\core\\frame.py:3893\u001b[0m, in \u001b[0;36mDataFrame.__getitem__\u001b[1;34m(self, key)\u001b[0m\n\u001b[0;32m   3891\u001b[0m \u001b[39mif\u001b[39;00m \u001b[39mself\u001b[39m\u001b[39m.\u001b[39mcolumns\u001b[39m.\u001b[39mnlevels \u001b[39m>\u001b[39m \u001b[39m1\u001b[39m:\n\u001b[0;32m   3892\u001b[0m     \u001b[39mreturn\u001b[39;00m \u001b[39mself\u001b[39m\u001b[39m.\u001b[39m_getitem_multilevel(key)\n\u001b[1;32m-> 3893\u001b[0m indexer \u001b[39m=\u001b[39m \u001b[39mself\u001b[39;49m\u001b[39m.\u001b[39;49mcolumns\u001b[39m.\u001b[39;49mget_loc(key)\n\u001b[0;32m   3894\u001b[0m \u001b[39mif\u001b[39;00m is_integer(indexer):\n\u001b[0;32m   3895\u001b[0m     indexer \u001b[39m=\u001b[39m [indexer]\n",
      "File \u001b[1;32mc:\\Skola\\ies\\Mgr\\python_midterm\\.venv\\lib\\site-packages\\pandas\\core\\indexes\\base.py:3797\u001b[0m, in \u001b[0;36mIndex.get_loc\u001b[1;34m(self, key)\u001b[0m\n\u001b[0;32m   3792\u001b[0m     \u001b[39mif\u001b[39;00m \u001b[39misinstance\u001b[39m(casted_key, \u001b[39mslice\u001b[39m) \u001b[39mor\u001b[39;00m (\n\u001b[0;32m   3793\u001b[0m         \u001b[39misinstance\u001b[39m(casted_key, abc\u001b[39m.\u001b[39mIterable)\n\u001b[0;32m   3794\u001b[0m         \u001b[39mand\u001b[39;00m \u001b[39many\u001b[39m(\u001b[39misinstance\u001b[39m(x, \u001b[39mslice\u001b[39m) \u001b[39mfor\u001b[39;00m x \u001b[39min\u001b[39;00m casted_key)\n\u001b[0;32m   3795\u001b[0m     ):\n\u001b[0;32m   3796\u001b[0m         \u001b[39mraise\u001b[39;00m InvalidIndexError(key)\n\u001b[1;32m-> 3797\u001b[0m     \u001b[39mraise\u001b[39;00m \u001b[39mKeyError\u001b[39;00m(key) \u001b[39mfrom\u001b[39;00m \u001b[39merr\u001b[39;00m\n\u001b[0;32m   3798\u001b[0m \u001b[39mexcept\u001b[39;00m \u001b[39mTypeError\u001b[39;00m:\n\u001b[0;32m   3799\u001b[0m     \u001b[39m# If we have a listlike key, _check_indexing_error will raise\u001b[39;00m\n\u001b[0;32m   3800\u001b[0m     \u001b[39m#  InvalidIndexError. Otherwise we fall through and re-raise\u001b[39;00m\n\u001b[0;32m   3801\u001b[0m     \u001b[39m#  the TypeError.\u001b[39;00m\n\u001b[0;32m   3802\u001b[0m     \u001b[39mself\u001b[39m\u001b[39m.\u001b[39m_check_indexing_error(key)\n",
      "\u001b[1;31mKeyError\u001b[0m: (1, 'included')"
     ]
    }
   ],
   "source": [
    "SnP[1,\"included\"]"
   ]
  }
 ],
 "metadata": {
  "kernelspec": {
   "display_name": ".venv",
   "language": "python",
   "name": "python3"
  },
  "language_info": {
   "codemirror_mode": {
    "name": "ipython",
    "version": 3
   },
   "file_extension": ".py",
   "mimetype": "text/x-python",
   "name": "python",
   "nbconvert_exporter": "python",
   "pygments_lexer": "ipython3",
   "version": "3.10.0"
  }
 },
 "nbformat": 4,
 "nbformat_minor": 2
}
